{
 "cells": [
  {
   "cell_type": "markdown",
   "metadata": {},
   "source": [
    "### Program 1\n",
    "- In this assignment you will write a series of programs to solve sliding-tile puzzles using various uninformed and informed (heuristic) methods.\n",
    "- **Heuristics**, or \"rules of thumb,\" are problem-solving methods that are based on practical experience and knowledge. They allow you to use a \"quick fix\" to solve a minor problem or to narrow down options.\n",
    "#### Part 1 – Reading and Validating Sliding-Puzzle Problems\n",
    "- "
   ]
  }
 ],
 "metadata": {
  "language_info": {
   "name": "python"
  }
 },
 "nbformat": 4,
 "nbformat_minor": 2
}
