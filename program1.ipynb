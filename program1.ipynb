{
 "cells": [
  {
   "cell_type": "markdown",
   "metadata": {},
   "source": [
    "### Program 1\n",
    "- In this assignment you will write a series of programs to solve sliding-tile puzzles using various uninformed and informed (heuristic) methods.\n",
    "- **Heuristics**, or \"rules of thumb,\" are problem-solving methods that are based on practical experience and knowledge. They allow you to use a \"quick fix\" to solve a minor problem or to narrow down options.\n",
    "#### Part 1 – Reading and Validating Sliding-Puzzle Problems\n",
    "- Read a sliding-tile puzzle problem using a JSON parser. \n",
    "- Check that the sliding-tile puzzle problem is valid. Specifically, there must be fields named *n*, *start*, and *goal*. The n field must be a positive integer greater than 1. The start and goal fields must be 𝑛 x 𝑛 matrices containing the integers 0 (for the empty space) to 𝑛2 − 1"
   ]
  },
  {
   "cell_type": "code",
   "execution_count": 35,
   "metadata": {},
   "outputs": [
    {
     "data": {
      "text/html": [
       "<div>\n",
       "<style scoped>\n",
       "    .dataframe tbody tr th:only-of-type {\n",
       "        vertical-align: middle;\n",
       "    }\n",
       "\n",
       "    .dataframe tbody tr th {\n",
       "        vertical-align: top;\n",
       "    }\n",
       "\n",
       "    .dataframe thead th {\n",
       "        text-align: right;\n",
       "    }\n",
       "</style>\n",
       "<table border=\"1\" class=\"dataframe\">\n",
       "  <thead>\n",
       "    <tr style=\"text-align: right;\">\n",
       "      <th></th>\n",
       "      <th>n</th>\n",
       "      <th>start</th>\n",
       "      <th>goal</th>\n",
       "    </tr>\n",
       "  </thead>\n",
       "  <tbody>\n",
       "    <tr>\n",
       "      <th>0</th>\n",
       "      <td>3</td>\n",
       "      <td>[3, 1, 2]</td>\n",
       "      <td>[0, 1, 2]</td>\n",
       "    </tr>\n",
       "    <tr>\n",
       "      <th>1</th>\n",
       "      <td>3</td>\n",
       "      <td>[4, 0, 5]</td>\n",
       "      <td>[3, 4, 5]</td>\n",
       "    </tr>\n",
       "    <tr>\n",
       "      <th>2</th>\n",
       "      <td>3</td>\n",
       "      <td>[6, 7, 8]</td>\n",
       "      <td>[6, 7, 8]</td>\n",
       "    </tr>\n",
       "  </tbody>\n",
       "</table>\n",
       "</div>"
      ],
      "text/plain": [
       "   n      start       goal\n",
       "0  3  [3, 1, 2]  [0, 1, 2]\n",
       "1  3  [4, 0, 5]  [3, 4, 5]\n",
       "2  3  [6, 7, 8]  [6, 7, 8]"
      ]
     },
     "execution_count": 35,
     "metadata": {},
     "output_type": "execute_result"
    }
   ],
   "source": [
    "import pandas as pd\n",
    "\n",
    "df1 = pd.read_json('datasets/1-move.json')\n",
    "df2 = pd.read_json('datasets/2-moves.json')\n",
    "df2\n"
   ]
  },
  {
   "cell_type": "code",
   "execution_count": 41,
   "metadata": {},
   "outputs": [
    {
     "name": "stdout",
     "output_type": "stream",
     "text": [
      "'n' is greater than or equal to one. 'n' is 3\n",
      "0 found in [3, 1, 2] [0, 1, 2]\n",
      "0 found in [0, 4, 5] [3, 4, 5]\n",
      "1-move.json is valid\n",
      "'n' is greater than or equal to one. 'n' is 3\n",
      "0 found in [3, 1, 2] [0, 1, 2]\n",
      "0 found in [4, 0, 5] [3, 4, 5]\n",
      "2-moves.json is valid\n"
     ]
    }
   ],
   "source": [
    "import string\n",
    "\n",
    "def validation(df: pd.DataFrame, filename: string):\n",
    "    # check if n, start and goal are defined\n",
    "    if(df.columns.__contains__('n') and df.columns.__contains__('start') and df.columns.__contains__('goal')):\n",
    "        # check the value of n\n",
    "        if(df['n'].unique()):\n",
    "            nvalue = df['n'].unique()[0]\n",
    "            # if n is greater than or equal to 1, proceed\n",
    "            startLength = len(df['start'])\n",
    "            goalLength = len(df['goal'])\n",
    "            # if the start and goal columns are of length n, proceed\n",
    "            if (nvalue >= 1 and startLength == nvalue and goalLength == nvalue):\n",
    "                print(\"'n' is greater than or equal to one. 'n' is\", nvalue)\n",
    "                # check the start and goal columns\n",
    "                # if they are of size n AND contain a zero, proceed \n",
    "                for row,row2 in zip(df['start'],df['goal']):\n",
    "                    if len(row) == nvalue and len(row2) == nvalue: \n",
    "                        if 0 in row or 0 in row2:\n",
    "                            print('0 found in', row,row2)\n",
    "            print(f'{filename} is valid' )\n",
    "        else:\n",
    "            print(f'{filename} is not valid. n is not greather than or equal to one.') \n",
    "    else:\n",
    "        print(f\"{filename} is not valid.JSON file does not contain fields 'n', 'start', or 'goal'\")\n",
    "\n",
    "validation(df1, '1-move.json')\n",
    "validation(df2, \"2-moves.json\")"
   ]
  },
  {
   "cell_type": "markdown",
   "metadata": {},
   "source": [
    "#### Part 2 – Sliding-Tile Puzzle Rules\n",
    "- Given a sliding-tile puzzle state, you must be able to determine the rules that are applicable to that state that can be used to generate its successor states.\n",
    "- A rule has three parts:\n",
    "    - *name* – a simple name for the rule (e.g., up, left, down, right)\n",
    "    - *precondition function* – a Boolean function that accepts a state and returns true if the rule is applicable to state\n",
    "    - *action function* – a function that accepts a state and returns the successor state obtained by applying the rule"
   ]
  },
  {
   "cell_type": "code",
   "execution_count": null,
   "metadata": {},
   "outputs": [],
   "source": []
  }
 ],
 "metadata": {
  "kernelspec": {
   "display_name": "venv-program1",
   "language": "python",
   "name": "python3"
  },
  "language_info": {
   "codemirror_mode": {
    "name": "ipython",
    "version": 3
   },
   "file_extension": ".py",
   "mimetype": "text/x-python",
   "name": "python",
   "nbconvert_exporter": "python",
   "pygments_lexer": "ipython3",
   "version": "3.12.6"
  }
 },
 "nbformat": 4,
 "nbformat_minor": 2
}
