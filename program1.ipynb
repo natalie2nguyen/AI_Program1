{
 "cells": [
  {
   "cell_type": "markdown",
   "metadata": {},
   "source": [
    "### Program 1\n",
    "- In this assignment you will write a series of programs to solve sliding-tile puzzles using various uninformed and informed (heuristic) methods.\n",
    "- **Heuristics**, or \"rules of thumb,\" are problem-solving methods that are based on practical experience and knowledge. They allow you to use a \"quick fix\" to solve a minor problem or to narrow down options.\n",
    "#### Part 1 – Reading and Validating Sliding-Puzzle Problems\n",
    "- Read a sliding-tile puzzle problem using a JSON parser. \n",
    "- Check that the sliding-tile puzzle problem is valid. Specifically, there must be fields named *n*, *start*, and *goal*. The n field must be a positive integer greater than 1. The start and goal fields must be 𝑛 x 𝑛 matrices containing the integers 0 (for the empty space) to 𝑛2 − 1"
   ]
  },
  {
   "cell_type": "code",
   "execution_count": 238,
   "metadata": {},
   "outputs": [
    {
     "data": {
      "text/html": [
       "<div>\n",
       "<style scoped>\n",
       "    .dataframe tbody tr th:only-of-type {\n",
       "        vertical-align: middle;\n",
       "    }\n",
       "\n",
       "    .dataframe tbody tr th {\n",
       "        vertical-align: top;\n",
       "    }\n",
       "\n",
       "    .dataframe thead th {\n",
       "        text-align: right;\n",
       "    }\n",
       "</style>\n",
       "<table border=\"1\" class=\"dataframe\">\n",
       "  <thead>\n",
       "    <tr style=\"text-align: right;\">\n",
       "      <th></th>\n",
       "      <th>n</th>\n",
       "      <th>start</th>\n",
       "      <th>goal</th>\n",
       "    </tr>\n",
       "  </thead>\n",
       "  <tbody>\n",
       "    <tr>\n",
       "      <th>0</th>\n",
       "      <td>3</td>\n",
       "      <td>[3, 1, 2]</td>\n",
       "      <td>[0, 1, 2]</td>\n",
       "    </tr>\n",
       "    <tr>\n",
       "      <th>1</th>\n",
       "      <td>3</td>\n",
       "      <td>[4, 0, 5]</td>\n",
       "      <td>[3, 4, 5]</td>\n",
       "    </tr>\n",
       "    <tr>\n",
       "      <th>2</th>\n",
       "      <td>3</td>\n",
       "      <td>[6, 7, 8]</td>\n",
       "      <td>[6, 7, 8]</td>\n",
       "    </tr>\n",
       "  </tbody>\n",
       "</table>\n",
       "</div>"
      ],
      "text/plain": [
       "   n      start       goal\n",
       "0  3  [3, 1, 2]  [0, 1, 2]\n",
       "1  3  [4, 0, 5]  [3, 4, 5]\n",
       "2  3  [6, 7, 8]  [6, 7, 8]"
      ]
     },
     "execution_count": 238,
     "metadata": {},
     "output_type": "execute_result"
    }
   ],
   "source": [
    "import pandas as pd\n",
    "\n",
    "df1 = pd.read_json('datasets/1-move.json')\n",
    "df2 = pd.read_json('datasets/2-moves.json')\n",
    "df15 = pd.read_json('datasets/15-puzzle.json')\n",
    "df2\n"
   ]
  },
  {
   "cell_type": "code",
   "execution_count": 239,
   "metadata": {},
   "outputs": [
    {
     "name": "stdout",
     "output_type": "stream",
     "text": [
      "'n' is greater than or equal to one. 'n' is 3\n",
      "0 found in [3, 1, 2] [0, 1, 2]\n",
      "0 found in [0, 4, 5] [3, 4, 5]\n",
      "1-move.json is valid\n",
      "'n' is greater than or equal to one. 'n' is 3\n",
      "0 found in [3, 1, 2] [0, 1, 2]\n",
      "0 found in [4, 0, 5] [3, 4, 5]\n",
      "2-moves.json is valid\n",
      "'n' is greater than or equal to one. 'n' is 4\n",
      "0 found in [9, 0, 10, 7] [9, 10, 11, 12]\n",
      "0 found in [13, 14, 11, 15] [13, 14, 15, 0]\n",
      "15-puzzle.json is valid\n"
     ]
    }
   ],
   "source": [
    "import string\n",
    "\n",
    "def validation(df: pd.DataFrame, filename: string):\n",
    "    # check if n, start and goal are defined\n",
    "    if(df.columns.__contains__('n') and df.columns.__contains__('start') and df.columns.__contains__('goal')):\n",
    "        # check the value of n\n",
    "        if(df['n'].unique()):\n",
    "            nvalue = df['n'].unique()[0]\n",
    "            # if n is greater than or equal to 1, proceed\n",
    "            startLength = len(df['start'])\n",
    "            goalLength = len(df['goal'])\n",
    "            # if the start and goal columns are of length n, proceed\n",
    "            if (nvalue >= 1 and startLength == nvalue and goalLength == nvalue):\n",
    "                print(\"'n' is greater than or equal to one. 'n' is\", nvalue)\n",
    "                # check the start and goal columns\n",
    "                # if they are of size n AND contain a zero, proceed \n",
    "                for row,row2 in zip(df['start'],df['goal']):\n",
    "                    if len(row) == nvalue and len(row2) == nvalue: \n",
    "                        if 0 in row or 0 in row2:\n",
    "                            print('0 found in', row,row2)\n",
    "            print(f'{filename} is valid' )\n",
    "        else:\n",
    "            print(f'{filename} is not valid. n is not greather than or equal to one.') \n",
    "    else:\n",
    "        print(f\"{filename} is not valid.JSON file does not contain fields 'n', 'start', or 'goal'\")\n",
    "\n",
    "validation(df1, '1-move.json')\n",
    "validation(df2, \"2-moves.json\")\n",
    "validation(df15, \"15-puzzle.json\")"
   ]
  },
  {
   "cell_type": "markdown",
   "metadata": {},
   "source": [
    "#### Part 2 – Sliding-Tile Puzzle Rules\n",
    "- Given a sliding-tile puzzle state, you must be able to determine the rules that are applicable to that state that can be used to generate its successor states.\n",
    "- A rule has three parts:\n",
    "    - *name* – a simple name for the rule (e.g., up, left, down, right)\n",
    "    - *precondition function* – a Boolean function that accepts a state and returns true if the rule is applicable to state\n",
    "    - *action function* – a function that accepts a state and returns the successor state obtained by applying the rule"
   ]
  },
  {
   "cell_type": "code",
   "execution_count": 279,
   "metadata": {},
   "outputs": [],
   "source": [
    "from typing import List\n",
    "from copy import deepcopy\n",
    "\n",
    "def find_zero(state: pd.DataFrame): \n",
    "    for i, row in enumerate(state['start']):\n",
    "        if 0 in row:\n",
    "            return i, row.index(0)\n",
    "\n",
    "def swap(state: pd.DataFrame, pos1, pos2):\n",
    "    new_state = deepcopy(state['start'].tolist())   \n",
    "    new_state[pos1[0]][pos1[1]], new_state[pos2[0]][pos2[1]] = new_state[pos2[0]][pos2[1]], new_state[pos1[0]][pos1[1]]\n",
    "    return pd.DataFrame({'start': new_state})\n",
    "\n",
    "def copy_state(state: pd.DataFrame):\n",
    "    return state.copy()\n",
    "\n",
    "\n",
    "def applicable_moves(state:pd.DataFrame) -> List[str]:\n",
    "    # tuple = (index of row with 0, index of 0 in the row)\n",
    "    zero_position = find_zero(state)\n",
    "    zero_row = state['start'][zero_position[0]]\n",
    "    moves = []\n",
    "\n",
    "    # move right\n",
    "    if zero_position[1] < len(zero_row) - 1:\n",
    "        moves.append('Right') \n",
    "    # move left\n",
    "    if zero_position[1] > 0:\n",
    "        moves.append('Left') \n",
    "    # move up   \n",
    "    if zero_position[0] > 0:\n",
    "        moves.append('Up') \n",
    "    # move down\n",
    "    if zero_position[0] < len(state) - 1: \n",
    "        moves.append('Down') \n",
    "\n",
    "    return moves\n",
    "\n",
    "def move_and_apply(state: pd.DataFrame, direction: List[str]):\n",
    "    # tuple = (index of row with 0, index of 0 in the row)\n",
    "    # zero index = zero_position[1]\n",
    "    # zero_row_index = zero_position[0]\n",
    "    zero_position = find_zero(state)\n",
    "    \n",
    "    print('Starting state: \\n', state)\n",
    "    print()\n",
    "    print('The applicable moves are: ', direction)\n",
    "    print()\n",
    "    for dir in direction: \n",
    "\n",
    "        if dir == \"Right\":\n",
    "            new_state = copy_state(state) \n",
    "            new_zero_row = zero_position[0]\n",
    "            new_zero_index = zero_position[1] + 1\n",
    "            new_state = swap(new_state, zero_position, (new_zero_row, new_zero_index))\n",
    "            print(\"Successor state after 'right'\\n\", new_state)\n",
    "            print('\\n')\n",
    "        if dir == \"Left\":\n",
    "            new_state = copy_state(state) \n",
    "            new_zero_row = zero_position[0]\n",
    "            new_zero_index = zero_position[1] - 1\n",
    "            new_state = swap(new_state, zero_position, (new_zero_row, new_zero_index))\n",
    "            print(\"Successor state after 'left'\\n\", new_state)\n",
    "            print()\n",
    "        if dir == \"Up\":\n",
    "            new_state = copy_state(state) \n",
    "            new_zero_row = zero_position[0]-1 \n",
    "            new_zero_index = zero_position[1]\n",
    "            new_state = swap(new_state, zero_position, (new_zero_row, new_zero_index))\n",
    "            print(\"Successor state after 'up'\\n\", new_state)\n",
    "            print()\n",
    "        if dir == \"Down\":\n",
    "            new_state = copy_state(state) \n",
    "            new_zero_row = zero_position[0]+1 \n",
    "            new_zero_index = zero_position[1]\n",
    "            new_state = swap(new_state, zero_position, (new_zero_row, new_zero_index))\n",
    "            print(\"Successor state after 'down'\\n\", new_state)\n",
    "            print()\n",
    "\n"
   ]
  },
  {
   "cell_type": "code",
   "execution_count": 280,
   "metadata": {},
   "outputs": [
    {
     "data": {
      "text/plain": [
       "['Right', 'Left', 'Up', 'Down']"
      ]
     },
     "execution_count": 280,
     "metadata": {},
     "output_type": "execute_result"
    }
   ],
   "source": [
    "applicable_moves(df2)"
   ]
  },
  {
   "cell_type": "code",
   "execution_count": 281,
   "metadata": {},
   "outputs": [
    {
     "data": {
      "text/plain": [
       "['Right', 'Up', 'Down']"
      ]
     },
     "execution_count": 281,
     "metadata": {},
     "output_type": "execute_result"
    }
   ],
   "source": [
    "applicable_moves(df1)"
   ]
  },
  {
   "cell_type": "code",
   "execution_count": 282,
   "metadata": {},
   "outputs": [
    {
     "data": {
      "text/plain": [
       "['Right', 'Left', 'Up', 'Down']"
      ]
     },
     "execution_count": 282,
     "metadata": {},
     "output_type": "execute_result"
    }
   ],
   "source": [
    "applicable_moves(df15)"
   ]
  },
  {
   "cell_type": "code",
   "execution_count": 283,
   "metadata": {},
   "outputs": [
    {
     "name": "stdout",
     "output_type": "stream",
     "text": [
      "Starting state: \n",
      "    n      start       goal\n",
      "0  3  [3, 1, 2]  [0, 1, 2]\n",
      "1  3  [4, 0, 5]  [3, 4, 5]\n",
      "2  3  [6, 7, 8]  [6, 7, 8]\n",
      "\n",
      "The applicable moves are:  ['Right', 'Left', 'Up', 'Down']\n",
      "\n",
      "Successor state after 'right'\n",
      "        start\n",
      "0  [3, 1, 2]\n",
      "1  [4, 5, 0]\n",
      "2  [6, 7, 8]\n",
      "\n",
      "\n",
      "Successor state after 'left'\n",
      "        start\n",
      "0  [3, 1, 2]\n",
      "1  [0, 4, 5]\n",
      "2  [6, 7, 8]\n",
      "\n",
      "Successor state after 'up'\n",
      "        start\n",
      "0  [3, 0, 2]\n",
      "1  [4, 1, 5]\n",
      "2  [6, 7, 8]\n",
      "\n",
      "Successor state after 'down'\n",
      "        start\n",
      "0  [3, 1, 2]\n",
      "1  [4, 7, 5]\n",
      "2  [6, 0, 8]\n",
      "\n"
     ]
    }
   ],
   "source": [
    "move_and_apply(df2,applicable_moves(df2))"
   ]
  },
  {
   "cell_type": "code",
   "execution_count": 284,
   "metadata": {},
   "outputs": [
    {
     "name": "stdout",
     "output_type": "stream",
     "text": [
      "Starting state: \n",
      "    n      start       goal\n",
      "0  3  [3, 1, 2]  [0, 1, 2]\n",
      "1  3  [0, 4, 5]  [3, 4, 5]\n",
      "2  3  [6, 7, 8]  [6, 7, 8]\n",
      "\n",
      "The applicable moves are:  ['Right', 'Up', 'Down']\n",
      "\n",
      "Successor state after 'right'\n",
      "        start\n",
      "0  [3, 1, 2]\n",
      "1  [4, 0, 5]\n",
      "2  [6, 7, 8]\n",
      "\n",
      "\n",
      "Successor state after 'up'\n",
      "        start\n",
      "0  [0, 1, 2]\n",
      "1  [3, 4, 5]\n",
      "2  [6, 7, 8]\n",
      "\n",
      "Successor state after 'down'\n",
      "        start\n",
      "0  [3, 1, 2]\n",
      "1  [6, 4, 5]\n",
      "2  [0, 7, 8]\n",
      "\n"
     ]
    }
   ],
   "source": [
    "move_and_apply(df1,applicable_moves(df1))"
   ]
  },
  {
   "cell_type": "code",
   "execution_count": 285,
   "metadata": {},
   "outputs": [
    {
     "name": "stdout",
     "output_type": "stream",
     "text": [
      "Starting state: \n",
      "    n             start             goal\n",
      "0  4      [1, 3, 6, 4]     [1, 2, 3, 4]\n",
      "1  4     [5, 2, 8, 12]     [5, 6, 7, 8]\n",
      "2  4     [9, 0, 10, 7]  [9, 10, 11, 12]\n",
      "3  4  [13, 14, 11, 15]  [13, 14, 15, 0]\n",
      "\n",
      "The applicable moves are:  ['Right', 'Left', 'Up', 'Down']\n",
      "\n",
      "Successor state after 'right'\n",
      "               start\n",
      "0      [1, 3, 6, 4]\n",
      "1     [5, 2, 8, 12]\n",
      "2     [9, 10, 0, 7]\n",
      "3  [13, 14, 11, 15]\n",
      "\n",
      "\n",
      "Successor state after 'left'\n",
      "               start\n",
      "0      [1, 3, 6, 4]\n",
      "1     [5, 2, 8, 12]\n",
      "2     [0, 9, 10, 7]\n",
      "3  [13, 14, 11, 15]\n",
      "\n",
      "Successor state after 'up'\n",
      "               start\n",
      "0      [1, 3, 6, 4]\n",
      "1     [5, 0, 8, 12]\n",
      "2     [9, 2, 10, 7]\n",
      "3  [13, 14, 11, 15]\n",
      "\n",
      "Successor state after 'down'\n",
      "              start\n",
      "0     [1, 3, 6, 4]\n",
      "1    [5, 2, 8, 12]\n",
      "2   [9, 14, 10, 7]\n",
      "3  [13, 0, 11, 15]\n",
      "\n"
     ]
    }
   ],
   "source": [
    "move_and_apply(df15,applicable_moves(df15))"
   ]
  },
  {
   "cell_type": "markdown",
   "metadata": {},
   "source": [
    "### Part 3\n",
    "- Implement the BACKTRACK1(DATALIST) algorithm to solve instances of the sliding-puzzle problem. The depth bound may be a global variable or passed as an argument\n",
    "- Implement a main program to accept a sliding-tile puzzle problem and solve it using the BACKTRACK1(DATALIST) algorithm. Print the **start state** and the **goal state**, the **solution** and **solution length**, and the **number of states that were examined**\n",
    "- Implement a main program to accept a sliding-tile puzzle problem and solve it using an *iterative depth- first search* using the BACKTRACK1(DATALIST) algorithm. Print the **cumulative number of states** examined and the **final (optimal) solution**."
   ]
  },
  {
   "cell_type": "code",
   "execution_count": null,
   "metadata": {},
   "outputs": [],
   "source": []
  }
 ],
 "metadata": {
  "kernelspec": {
   "display_name": "venv-program1",
   "language": "python",
   "name": "python3"
  },
  "language_info": {
   "codemirror_mode": {
    "name": "ipython",
    "version": 3
   },
   "file_extension": ".py",
   "mimetype": "text/x-python",
   "name": "python",
   "nbconvert_exporter": "python",
   "pygments_lexer": "ipython3",
   "version": "3.10.7"
  }
 },
 "nbformat": 4,
 "nbformat_minor": 2
}
